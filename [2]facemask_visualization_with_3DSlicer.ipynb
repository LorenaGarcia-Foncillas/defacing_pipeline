{
 "cells": [
  {
   "cell_type": "code",
   "execution_count": 1,
   "id": "4c0106061ef74f4f",
   "metadata": {
    "collapsed": true,
    "ExecuteTime": {
     "end_time": "2024-01-12T10:10:42.313829786Z",
     "start_time": "2024-01-12T10:10:42.305899193Z"
    }
   },
   "outputs": [],
   "source": [
    "# run this script with the SlicerJupyter extension (3D Slicer)\n",
    "# instructions on how to install the extension and run scripts are available here:\n",
    "# https://github.com/Slicer/SlicerJupyter"
   ]
  },
  {
   "cell_type": "code",
   "execution_count": 2,
   "outputs": [],
   "source": [
    "\n",
    "import os\n",
    "import pandas as pd\n",
    "from tqdm import tqdm\n",
    "import numpy as np\n",
    "\n",
    "from glob import glob\n",
    "import imageio\n",
    "import time\n",
    "\n",
    "import slicer\n",
    "from slicer.util import array, getNode, loadVolume, saveNode, selectModule, VTKObservationMixin\n",
    "import vtk"
   ],
   "metadata": {
    "collapsed": false,
    "ExecuteTime": {
     "end_time": "2024-01-12T10:10:42.509016704Z",
     "start_time": "2024-01-12T10:10:42.306077697Z"
    }
   },
   "id": "7cc151a763ed7b1"
  },
  {
   "cell_type": "code",
   "execution_count": 3,
   "outputs": [],
   "source": [
    "# define a list of paths to the folders containing the masked images\n",
    "defaced_dirs = glob(os.path.join('./data/example_output/defaced_images', \"*\"))\n",
    "\n",
    "# define where the GIFs will be saved\n",
    "out_root = './data/example_output/defaced_images_3d_visualization'"
   ],
   "metadata": {
    "collapsed": false,
    "ExecuteTime": {
     "end_time": "2024-01-12T10:10:42.514105579Z",
     "start_time": "2024-01-12T10:10:42.510030206Z"
    }
   },
   "id": "ed2a38db9592a865"
  },
  {
   "cell_type": "code",
   "execution_count": 4,
   "outputs": [
    {
     "name": "stderr",
     "output_type": "stream",
     "text": [
      "  0%|          | 0/2 [00:00<?, ?it/s]"
     ]
    },
    {
     "name": "stdout",
     "output_type": "stream",
     "text": [
      "processing folder='./data/example_output/defaced_images/IXI002-Guys-0828-T1'\n"
     ]
    },
    {
     "name": "stderr",
     "output_type": "stream",
     "text": [
      "/tmp/xpython_577996/3422655470.py:117: DeprecationWarning: Starting with ImageIO v3 the behavior of this function will switch to that of iio.v3.imread. To keep the current behavior (and make this warning disappear) use `import imageio.v2 as imageio` or call `imageio.v2.imread` directly.\n",
      "  images.append(imageio.imread(filename))\n",
      " 50%|#####     | 1/2 [00:03<00:03,  3.86s/it]"
     ]
    },
    {
     "name": "stdout",
     "output_type": "stream",
     "text": [
      "processing folder='./data/example_output/defaced_images/IXI002-Guys-0828-T2'\n"
     ]
    },
    {
     "name": "stderr",
     "output_type": "stream",
     "text": [
      "100%|##########| 2/2 [00:07<00:00,  3.65s/it]\n"
     ]
    }
   ],
   "source": [
    "\n",
    "def showTransparentRendering(volumeNode, maxOpacity=1, gradientThreshold=30.0):\n",
    "  \"\"\"Make constant regions transparent and the entire volume somewhat transparent\n",
    "  :param maxOpacity: lower value makes the volume more transparent overall\n",
    "    (value is between 0.0 and 1.0)\n",
    "  :param gradientThreshold: regions that has gradient value below this threshold will be made transparent\n",
    "    (minimum value is 0.0, higher values make more tissues transparent, starting with soft tissues)\n",
    "  \"\"\"\n",
    "  # Get/create volume rendering display node\n",
    "  volRenLogic = slicer.modules.volumerendering.logic()\n",
    "  displayNode = volRenLogic.GetFirstVolumeRenderingDisplayNode(volumeNode)\n",
    "  if not displayNode:\n",
    "    displayNode = volRenLogic.CreateDefaultVolumeRenderingNodes(volumeNode)\n",
    "  # Set up gradient vs opacity transfer function\n",
    "  gradientOpacityTransferFunction = displayNode.GetVolumePropertyNode().GetVolumeProperty().GetGradientOpacity()\n",
    "  gradientOpacityTransferFunction.RemoveAllPoints()\n",
    "  gradientOpacityTransferFunction.AddPoint(0, 0.0)\n",
    "  gradientOpacityTransferFunction.AddPoint(gradientThreshold-1, 0.0)\n",
    "  gradientOpacityTransferFunction.AddPoint(gradientThreshold+1, maxOpacity)\n",
    "  # Show volume rendering\n",
    "  displayNode.SetVisibility(True)\n",
    "\n",
    "def showVolumeRendering(volumeNode):\n",
    "    print(\"Show volume rendering of node \" + volumeNode.GetName())\n",
    "    volRenLogic = slicer.modules.volumerendering.logic()\n",
    "    displayNode = volRenLogic.CreateDefaultVolumeRenderingNodes(volumeNode)\n",
    "    displayNode.SetVisibility(True)\n",
    "    scalarRange = volumeNode.GetImageData().GetScalarRange()\n",
    "    displayNode.GetVolumePropertyNode().Copy(volRenLogic.GetPresetByName(\"MR-Default\"))\n",
    "    \n",
    "def showVolumeRenderingMIP(volumeNode, useSliceViewColors=True):\n",
    "  \"\"\"Render volume using maximum intensity projection\n",
    "  :param useSliceViewColors: use the same colors as in slice views.\n",
    "  \"\"\"\n",
    "  # Get/create volume rendering display node\n",
    "  volRenLogic = slicer.modules.volumerendering.logic()\n",
    "  displayNode = volRenLogic.GetFirstVolumeRenderingDisplayNode(volumeNode)\n",
    "  if not displayNode:\n",
    "    displayNode = volRenLogic.CreateDefaultVolumeRenderingNodes(volumeNode)\n",
    "  # Choose MIP volume rendering preset\n",
    "  if useSliceViewColors:\n",
    "    volRenLogic.CopyDisplayToVolumeRenderingDisplayNode(displayNode)\n",
    "  else:\n",
    "    scalarRange = volumeNode.GetImageData().GetScalarRange()\n",
    "    if scalarRange[1]-scalarRange[0] < 1500:\n",
    "      # Small dynamic range, probably MRI\n",
    "      displayNode.GetVolumePropertyNode().Copy(volRenLogic.GetPresetByName(\"MR-MIP\"))\n",
    "    else:\n",
    "      # Larger dynamic range, probably CT\n",
    "      displayNode.GetVolumePropertyNode().Copy(volRenLogic.GetPresetByName(\"CT-MIP\"))\n",
    "  # Switch views to MIP mode\n",
    "  for viewNode in slicer.util.getNodesByClass(\"vtkMRMLViewNode\"):\n",
    "    viewNode.SetRaycastTechnique(slicer.vtkMRMLViewNode.MaximumIntensityProjection)\n",
    "  # Show volume rendering\n",
    "  displayNode.SetVisibility(True)\n",
    "  \n",
    "\n",
    "problems = []\n",
    "for folder in tqdm(defaced_dirs):\n",
    "        print(f\"processing {folder=}\")\n",
    "        outputimages = os.path.join(out_root, os.path.basename(folder))\n",
    "\n",
    "        os.makedirs(outputimages, exist_ok=True)\n",
    "\n",
    "        imgs =  [k for k in os.listdir(folder) if '_masked.nii.gz' in k]\n",
    "\n",
    "        for img in imgs:\n",
    "            loadedVolumeNode = slicer.util.loadVolume(os.path.join(folder,img))\n",
    "            \n",
    "            nodeName = loadedVolumeNode.GetName()\n",
    "            voxelArray = array(nodeName) # get voxels as numpy array\n",
    "            thresholdValue = np.quantile(voxelArray, 0.2)\n",
    "            voxelArray[voxelArray < thresholdValue] = 0 # modify voxel values\n",
    "            getNode(nodeName).Modified() # at the end of all processing, notify Slicer that the image modification is completed\n",
    "            #showVolumeRenderingMIP(loadedVolumeNode)\n",
    "\n",
    "            if folder=='Preop-MR':\n",
    "                showVolumeRendering(loadedVolumeNode)\n",
    "            else:\n",
    "                showTransparentRendering(loadedVolumeNode, 1, 0.0)\n",
    "            \n",
    "            view = slicer.app.layoutManager().threeDWidget(0).threeDView()\n",
    "            view.mrmlViewNode().SetBackgroundColor(0,0,0)\n",
    "            view.mrmlViewNode().SetBackgroundColor2(0,0,0)\n",
    "\n",
    "            layoutManager = slicer.app.layoutManager()\n",
    "            threeDWidget = layoutManager.threeDWidget(0)\n",
    "            threeDView = threeDWidget.threeDView()\n",
    "            threeDView.resetFocalPoint()\n",
    "            \n",
    "            slicer.util.forceRenderAllViews()\n",
    "            slicer.app.processEvents()\n",
    "\n",
    "            list_imgs = []     \n",
    "            for i in range(76):\n",
    "                layoutManager = slicer.app.layoutManager()\n",
    "                threeDWidget = layoutManager.threeDWidget(0)\n",
    "                threeDView = threeDWidget.threeDView()\n",
    "                threeDView.yaw()\n",
    "\n",
    "                \n",
    "                if i%5==0:\n",
    "                    renderWindow = view.renderWindow()\n",
    "                    renderWindow.SetAlphaBitPlanes(1)\n",
    "                    wti = vtk.vtkWindowToImageFilter()\n",
    "                    wti.SetInputBufferTypeToRGBA()\n",
    "                    wti.SetInput(renderWindow)\n",
    "                    writer = vtk.vtkPNGWriter()\n",
    "                    path_img_view = os.path.join(outputimages,img.replace('nii.gz',f'{i:03}.png'))\n",
    "                    list_imgs.append(path_img_view)\n",
    "                    writer.SetFileName(path_img_view)\n",
    "                    writer.SetInputConnection(wti.GetOutputPort())\n",
    "                    writer.Write()\n",
    "                    \n",
    "                \n",
    "            images = []\n",
    "            for filename in list_imgs[1:]:\n",
    "                images.append(imageio.imread(filename))\n",
    "            imageio.mimsave(os.path.join(outputimages,img.replace('.nii.gz','.gif')), images)\n",
    "\n",
    "            for filename in list_imgs:\n",
    "                os.remove(filename)\n",
    "            \n",
    "            slicer.mrmlScene.RemoveNode(loadedVolumeNode)\n",
    "            slicer.mrmlScene.Clear(0)"
   ],
   "metadata": {
    "collapsed": false,
    "ExecuteTime": {
     "end_time": "2024-01-12T10:10:49.969091107Z",
     "start_time": "2024-01-12T10:10:42.520371807Z"
    }
   },
   "id": "initial_id"
  },
  {
   "cell_type": "code",
   "execution_count": 5,
   "outputs": [],
   "source": [],
   "metadata": {
    "collapsed": false,
    "ExecuteTime": {
     "end_time": "2024-01-12T10:10:50.158039160Z",
     "start_time": "2024-01-12T10:10:50.115188089Z"
    }
   },
   "id": "46fd1422860bd801"
  }
 ],
 "metadata": {
  "kernelspec": {
   "name": "slicer-5.2",
   "language": "python",
   "display_name": "Slicer 5.2"
  },
  "language_info": {
   "codemirror_mode": {
    "name": "ipython",
    "version": 2
   },
   "file_extension": ".py",
   "mimetype": "text/x-python",
   "name": "python",
   "nbconvert_exporter": "python",
   "pygments_lexer": "ipython2",
   "version": "2.7.6"
  }
 },
 "nbformat": 4,
 "nbformat_minor": 5
}
