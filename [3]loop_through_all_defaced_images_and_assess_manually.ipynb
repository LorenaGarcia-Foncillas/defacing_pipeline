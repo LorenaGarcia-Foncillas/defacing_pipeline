{
 "cells": [
  {
   "cell_type": "code",
   "execution_count": 8,
   "metadata": {
    "ExecuteTime": {
     "end_time": "2024-01-12T10:11:06.717974544Z",
     "start_time": "2024-01-12T10:11:06.662709239Z"
    }
   },
   "outputs": [],
   "source": [
    "import os\n",
    "import pandas as pd\n",
    "from tqdm import tqdm\n",
    "from glob import glob\n",
    "from natsort import natsorted"
   ]
  },
  {
   "cell_type": "code",
   "execution_count": 9,
   "metadata": {
    "ExecuteTime": {
     "end_time": "2024-01-12T10:11:06.719917745Z",
     "start_time": "2024-01-12T10:11:06.705918368Z"
    }
   },
   "outputs": [],
   "source": [
    "# facemasked iamges directory\n",
    "masked_img_folder = \"./data/example_output/defaced_images\"\n",
    "\n",
    "# folder with 3D visualization GIFs\n",
    "gif_folder = \"./data/example_output/defaced_images_3d_visualization\"\n",
    "\n",
    "# unstripped original images for comparison with stripped images\n",
    "orig_img_folder = \"./data/example_input_images\""
   ]
  },
  {
   "cell_type": "code",
   "execution_count": 10,
   "metadata": {
    "ExecuteTime": {
     "end_time": "2024-01-12T10:11:06.719991691Z",
     "start_time": "2024-01-12T10:11:06.706033553Z"
    }
   },
   "outputs": [],
   "source": [
    "csv_filepath = \"./data/example_output_manual_assessment.csv\"\n",
    "#df = pd.read_csv(os.path.join(csv_filepath))"
   ]
  },
  {
   "cell_type": "code",
   "execution_count": 11,
   "metadata": {
    "ExecuteTime": {
     "end_time": "2024-01-12T10:11:06.720129195Z",
     "start_time": "2024-01-12T10:11:06.706099007Z"
    }
   },
   "outputs": [
    {
     "data": {
      "text/plain": "(2, 2, 2)"
     },
     "execution_count": 11,
     "metadata": {},
     "output_type": "execute_result"
    }
   ],
   "source": [
    "img_folders = natsorted(glob(os.path.join(masked_img_folder, \"*\")))\n",
    "gif_folders = natsorted(glob(os.path.join(gif_folder, \"*\")))\n",
    "orig_folders = natsorted(glob(os.path.join(orig_img_folder, \"*\")))\n",
    "len(img_folders), len(gif_folders), len(orig_folders)"
   ]
  },
  {
   "cell_type": "code",
   "execution_count": 12,
   "metadata": {
    "ExecuteTime": {
     "end_time": "2024-01-12T10:11:06.720228381Z",
     "start_time": "2024-01-12T10:11:06.706176737Z"
    }
   },
   "outputs": [
    {
     "data": {
      "text/plain": "(2, 2, 2)"
     },
     "execution_count": 12,
     "metadata": {},
     "output_type": "execute_result"
    }
   ],
   "source": [
    "orig_paths = natsorted(glob(os.path.join(orig_img_folder, \"*\", \"*.nii.gz\")))\n",
    "img_paths = natsorted(glob(os.path.join(masked_img_folder, \"*\", \"*_masked.nii.gz\")))\n",
    "gif_paths = natsorted(glob(os.path.join(gif_folder, \"*\", \"*.gif\")))\n",
    "len(orig_paths), len(img_paths), len(gif_paths)"
   ]
  },
  {
   "cell_type": "code",
   "execution_count": 13,
   "metadata": {
    "ExecuteTime": {
     "end_time": "2024-01-12T10:11:06.720515208Z",
     "start_time": "2024-01-12T10:11:06.706246731Z"
    }
   },
   "outputs": [
    {
     "data": {
      "text/plain": "                                           path_orig  \\\n0  ./data/example_input_images/IXI002-Guys-0828-T...   \n1  ./data/example_input_images/IXI002-Guys-0828-T...   \n\n                                        path_defaced  \\\n0  ./data/example_output/defaced_images/IXI002-Gu...   \n1  ./data/example_output/defaced_images/IXI002-Gu...   \n\n                                            path_gif deface_accepted  \n0  ./data/example_output/defaced_images_3d_visual...            None  \n1  ./data/example_output/defaced_images_3d_visual...            None  ",
      "text/html": "<div>\n<style scoped>\n    .dataframe tbody tr th:only-of-type {\n        vertical-align: middle;\n    }\n\n    .dataframe tbody tr th {\n        vertical-align: top;\n    }\n\n    .dataframe thead th {\n        text-align: right;\n    }\n</style>\n<table border=\"1\" class=\"dataframe\">\n  <thead>\n    <tr style=\"text-align: right;\">\n      <th></th>\n      <th>path_orig</th>\n      <th>path_defaced</th>\n      <th>path_gif</th>\n      <th>deface_accepted</th>\n    </tr>\n  </thead>\n  <tbody>\n    <tr>\n      <th>0</th>\n      <td>./data/example_input_images/IXI002-Guys-0828-T...</td>\n      <td>./data/example_output/defaced_images/IXI002-Gu...</td>\n      <td>./data/example_output/defaced_images_3d_visual...</td>\n      <td>None</td>\n    </tr>\n    <tr>\n      <th>1</th>\n      <td>./data/example_input_images/IXI002-Guys-0828-T...</td>\n      <td>./data/example_output/defaced_images/IXI002-Gu...</td>\n      <td>./data/example_output/defaced_images_3d_visual...</td>\n      <td>None</td>\n    </tr>\n  </tbody>\n</table>\n</div>"
     },
     "execution_count": 13,
     "metadata": {},
     "output_type": "execute_result"
    }
   ],
   "source": [
    "# build dataframe from gifs present in png_folder\n",
    "\n",
    "df = pd.DataFrame(columns=[\"path_orig\", \"path_defaced\", \"path_gif\", \"deface_accepted\"])\n",
    "\n",
    "for orig_path, img_path, gif_path in zip(orig_paths, img_paths, gif_paths):\n",
    "    row_list = [orig_path, img_path, gif_path, None]\n",
    "    df.loc[len(df)] = row_list\n",
    "df"
   ]
  },
  {
   "cell_type": "code",
   "execution_count": 14,
   "metadata": {
    "ExecuteTime": {
     "end_time": "2024-01-12T10:11:24.130687061Z",
     "start_time": "2024-01-12T10:11:06.706363137Z"
    }
   },
   "outputs": [],
   "source": [
    "for idx in range(0, len(df)):\n",
    "    row = df.loc[idx]\n",
    "    \n",
    "    orig_path = row['path_orig']\n",
    "    gif_path = row['path_gif']\n",
    "    img_path = row['path_defaced']\n",
    "    \n",
    "    if os.path.isfile(gif_path):\n",
    "        cmd = \"mpv --speed=0.4 \" + gif_path + \" >/dev/null 2>&1\"\n",
    "        os.system(cmd)\n",
    "\n",
    "        user_input = input()\n",
    "\n",
    "        if user_input == \"v\":\n",
    "            os.system(f\"itksnap -g {img_path} -o {orig_path}\")\n",
    "            user_input = input()\n",
    "\n",
    "        df.loc[idx, 'deface_accepted'] = user_input\n",
    "        df.to_csv(csv_filepath, index=None)"
   ]
  }
 ],
 "metadata": {
  "kernelspec": {
   "display_name": "Python 3",
   "language": "python",
   "name": "python3"
  },
  "language_info": {
   "codemirror_mode": {
    "name": "ipython",
    "version": 3
   },
   "file_extension": ".py",
   "mimetype": "text/x-python",
   "name": "python",
   "nbconvert_exporter": "python",
   "pygments_lexer": "ipython3",
   "version": "3.8.10"
  },
  "orig_nbformat": 4
 },
 "nbformat": 4,
 "nbformat_minor": 2
}
