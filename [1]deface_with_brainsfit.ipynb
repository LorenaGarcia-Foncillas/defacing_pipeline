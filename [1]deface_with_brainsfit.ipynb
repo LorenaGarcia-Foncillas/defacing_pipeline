{
 "cells": [
  {
   "cell_type": "code",
   "execution_count": 1,
   "id": "45a10f08-5eea-4464-b5a0-d7e5ac967b87",
   "metadata": {},
   "outputs": [],
   "source": [
    "# import slicer\n",
    "# slicer.util.pip_install(\"natsort\")\n",
    "# slicer.util.pip_install(\"nibabel\")\n",
    "# slicer.util.pip_install(\"tqdm\")"
   ]
  },
  {
   "cell_type": "code",
   "execution_count": 2,
   "id": "e373ed02-1b9c-4bbc-9b02-7a2ddea8de69",
   "metadata": {
    "ExecuteTime": {
     "end_time": "2024-01-12T10:08:07.001309141Z",
     "start_time": "2024-01-12T10:08:06.517753970Z"
    }
   },
   "outputs": [],
   "source": [
    "import os\n",
    "from glob import glob\n",
    "from natsort import natsorted\n",
    "import numpy as np\n",
    "import subprocess\n",
    "import nibabel as nib\n",
    "import json\n",
    "from tqdm import tqdm\n",
    "import pandas as pd"
   ]
  },
  {
   "cell_type": "code",
   "execution_count": 3,
   "id": "34f56711-1996-4fbe-aab2-a2276f24cdac",
   "metadata": {
    "ExecuteTime": {
     "end_time": "2024-01-12T10:08:07.013014044Z",
     "start_time": "2024-01-12T10:08:07.005403047Z"
    }
   },
   "outputs": [
    {
     "name": "stdout",
     "output_type": "stream",
     "text": [
      "Found 2 images that need to be defaced\n",
      "Input images:  ['./data/example_input_images/IXI002-Guys-0828-T1/IXI002-Guys-0828-T1.nii.gz', './data/example_input_images/IXI002-Guys-0828-T2/IXI002-Guys-0828-T2.nii.gz']\n",
      "Existing transforms:  ['None', 'None']\n",
      "Output paths:  ['./data/example_output/defaced_images/IXI002-Guys-0828-T1', './data/example_output/defaced_images/IXI002-Guys-0828-T2']\n"
     ]
    }
   ],
   "source": [
    "# define the target image for the registration and the corresponding face mask\n",
    "target = os.path.abspath(\"./data/icbm152_ext55_model_sym_2020_nifti/icbm152_ext55_model_sym_2020/mni_icbm152_t1_tal_nlin_sym_55_ext.nii\")\n",
    "target_face_mask = os.path.abspath(\"./data/icbm152_ext55_model_sym_2020_nifti/icbm152_ext55_model_sym_2020/t1_mask.nii.gz\")\n",
    "\n",
    "# define the list iof images that need to be defaced\n",
    "floating_imgs = natsorted(glob(\"./data/example_input_images/*/*.nii.gz\"))\n",
    "\n",
    "# define a list of existing transforms (for example created with 3D Slicer) that are used instead of the automatic registration\n",
    "# value should be None if no transform exists and automatic registration is to be used\n",
    "existing_transform_paths = [os.path.join(os.path.dirname(f), \"Transform_to_template.txt\") for f in floating_imgs]\n",
    "existing_transform_paths = [f if os.path.isfile(f) else \"None\" for f in existing_transform_paths ]\n",
    "\n",
    "# list of output paths for each defaced image\n",
    "results_folder_paths = [os.path.join(\"./data/example_output/defaced_images\", *f.split(os.sep)[-2:-1]) for f in floating_imgs]\n",
    "\n",
    "# check that all lists have the same length\n",
    "assert len(floating_imgs) == len(results_folder_paths) == len(existing_transform_paths), f\"The lists have different lengths, {len(floating_imgs)=}, {len(results_folder_paths)=}, {len(existing_transform_paths)=}\"\n",
    "\n",
    "print(f\"Found {len(floating_imgs)} images that need to be defaced\")\n",
    "\n",
    "# print example paths\n",
    "print(\"Input images: \", floating_imgs[0:3])\n",
    "print(\"Existing transforms: \", existing_transform_paths[0:3])\n",
    "print(\"Output paths: \", results_folder_paths[0:3])\n",
    "\n",
    "# path to BRAINSFit executable\n",
    "BRAINSFit_bin_path = os.path.join(\"./BRAINSTools/BRAINSFit\")\n",
    "\n",
    "# path to BRAINSFit executable\n",
    "BRAINSresample_bin_path = \"./BRAINSTools/BRAINSResample\""
   ]
  },
  {
   "cell_type": "code",
   "execution_count": 4,
   "id": "8d501383-9771-4931-88dc-59827cd1d95d",
   "metadata": {
    "ExecuteTime": {
     "end_time": "2024-01-12T10:09:02.662530506Z",
     "start_time": "2024-01-12T10:08:07.011313443Z"
    }
   },
   "outputs": [
    {
     "name": "stderr",
     "output_type": "stream",
     "text": [
      "  0%|          | 0/2 [00:00<?, ?it/s]"
     ]
    },
    {
     "name": "stdout",
     "output_type": "stream",
     "text": [
      "0\n"
     ]
    },
    {
     "name": "stderr",
     "output_type": "stream",
     "text": [
      "pixdim[0] (qfac) should be 1 (default) or -1; setting qfac to 1\n"
     ]
    },
    {
     "name": "stdout",
     "output_type": "stream",
     "text": [
      "Run registration with BRAINSFit...\n",
      "BRAINSFit registration completed successfully!\n"
     ]
    },
    {
     "name": "stderr",
     "output_type": "stream",
     "text": [
      " 50%|#####     | 1/2 [01:14<01:14, 74.96s/it]"
     ]
    },
    {
     "name": "stdout",
     "output_type": "stream",
     "text": [
      "1\n"
     ]
    },
    {
     "name": "stderr",
     "output_type": "stream",
     "text": [
      "pixdim[0] (qfac) should be 1 (default) or -1; setting qfac to 1\n"
     ]
    },
    {
     "name": "stdout",
     "output_type": "stream",
     "text": [
      "Run registration with BRAINSFit...\n",
      "BRAINSFit registration completed successfully!\n"
     ]
    },
    {
     "name": "stderr",
     "output_type": "stream",
     "text": [
      "100%|##########| 2/2 [04:17<00:00, 128.68s/it]\n"
     ]
    }
   ],
   "source": [
    "for i, (floating, results_folder_path, ex_tfm) in enumerate(tqdm(list(zip(floating_imgs, results_folder_paths, existing_transform_paths)))):\n",
    "    print(i)\n",
    "\n",
    "    if os.path.isfile(os.path.join(results_folder_path, os.path.basename(floating).replace(\".nii.gz\", \"_masked.nii.gz\"))):\n",
    "        print(\"file exists. skipping ..... \")\n",
    "        continue\n",
    "    else:\n",
    "        os.makedirs(results_folder_path, exist_ok=True)\n",
    "\n",
    "        out_affine = os.path.join(results_folder_path, os.path.basename(floating.replace(\"nii.gz\", \"txt\")))\n",
    "        out_resampled_img_path = os.path.join(results_folder_path, os.path.basename(floating).replace(\".nii.gz\", \"_resampled.nii.gz\"))\n",
    "        \n",
    "        target_nii = nib.load(target)\n",
    "        floating_nii = nib.load(floating)\n",
    "        \n",
    "        if os.path.isfile(ex_tfm):\n",
    "            print(f\"Using existing initialTransform {ex_tfm} instead of running registration...\")\n",
    "            out_affine = ex_tfm\n",
    "        else:\n",
    "            print(f\"Run registration with BRAINSFit...\")\n",
    "            exit_status = os.system(f' \"{BRAINSFit_bin_path}\" ' +  # BRAINSFit executable path\n",
    "                                    f'--fixedVolume \"{target}\" ' +  # Path to the fixed (target) volume\n",
    "                                    f'--movingVolume \"{floating}\" ' +  # Path to the moving (floating) volume\n",
    "                                    f'--outputVolume \"{out_resampled_img_path}\" ' +  # Path to the output resampled volume\n",
    "                                    f'--outputTransform \"{out_affine}\" ' +  # Path to the output transformation matrix\n",
    "                                    f'--samplingPercentage 0.1  ' +  # 10% of the data used for registration (lower values = faster, less accurate)\n",
    "                                    f'--splineGridSize 14,10,12  ' +  # Grid size for spline transformation\n",
    "                                    f'--initializeTransformMode useMomentsAlign  ' +  # Method to initialize the transformation\n",
    "                                    f'--useRigid  ' +  # Apply rigid transformation (translation, rotation)\n",
    "                                    f'--useAffine  ' +  # Apply affine transformation (scaling, shearing)\n",
    "                                    f'--maskProcessingMode NOMASK  ' +  # Don't apply any masks during registration\n",
    "                                    f'--medianFilterSize 0,0,0  ' +  # Disable median filtering (default 0)\n",
    "                                    f'--removeIntensityOutliers 0  ' +  # Disable outlier removal\n",
    "                                    f'--outputVolumePixelType float  ' +  # Set output pixel type to float\n",
    "                                    f'--backgroundFillValue 0  ' +  # Background fill value set to 0 (empty space in images)\n",
    "                                    f'--interpolationMode Linear  ' +  # Use linear interpolation for image resampling\n",
    "                                    f'--numberOfIterations 1500  ' +  # Number of iterations for optimization\n",
    "                                    f'--maximumStepLength 0.05  ' +  # Maximum step size for optimization\n",
    "                                    f'--minimumStepLength 0.001  ' +  # Minimum step size for optimization\n",
    "                                    f'--relaxationFactor 0.5  ' +  # Relaxation factor for optimization\n",
    "                                    f'--translationScale 1000  ' +  # Scale for translation optimization\n",
    "                                    f'--reproportionScale 1  ' +  # Scale for reproportioning optimization\n",
    "                                    f'--skewScale 1  ' +  # Scale for skewness optimization\n",
    "                                    f'--maxBSplineDisplacement 0  ' +  # Maximum displacement for B-spline transformation\n",
    "                                    f'--fixedVolumeTimeIndex 0  ' +  # Time index for the fixed volume (0 means no time series)\n",
    "                                    f'--movingVolumeTimeIndex 0  ' +  # Time index for the moving volume (0 means no time series)\n",
    "                                    f'--numberOfHistogramBins 50  ' +  # Number of histogram bins for image matching\n",
    "                                    f'--numberOfMatchPoints 10  ' +  # Number of points used in matching process\n",
    "                                    f'--costMetric MMI  ' +  # Use Mutual Information (MMI) as the cost metric for registration\n",
    "                                    f'--maskInferiorCutOffFromCenter 1000  ' +  # Masking option (cut off below 1000 units from center)\n",
    "                                    f'--ROIAutoDilateSize 0  ' +  # Dilate ROI automatically (disabled)\n",
    "                                    f'--ROIAutoClosingSize 9  ' +  # Apply morphological closing (dilation + erosion)\n",
    "                                    f'--numberOfSamples 0  ' +  # Number of samples used in cost function (0 for all samples)\n",
    "                                    f'--failureExitCode -1  ' +  # Exit code on failure\n",
    "                                    f'--numberOfThreads -1  ' +  # Use all available threads\n",
    "                                    f'--debugLevel 0  ' +  # Debug level (0 = no debug)\n",
    "                                    f'--costFunctionConvergenceFactor 2e+13  ' +  # Convergence factor for cost function\n",
    "                                    f'--projectedGradientTolerance 1e-05  ' +  # Tolerance for projected gradient\n",
    "                                    f'--maximumNumberOfEvaluations 900  ' +  # Maximum number of evaluations for optimization\n",
    "                                    f'--maximumNumberOfCorrections 25  ' +  # Maximum number of corrections for optimization\n",
    "                                    f'--metricSamplingStrategy Random '  # Randomly sample points for metric calculation\n",
    "                                    f'>> /dev/null'  # Suppress output to the terminal\n",
    "                                       )\n",
    "        \n",
    "            # Check if the exit status is zero (success)\n",
    "            if exit_status == 0:\n",
    "                print(\"BRAINSFit registration completed successfully!\")\n",
    "            else:\n",
    "                print(f\"BRAINSFit failed with exit code {exit_status}. Please check for errors.\")\n",
    "        \n",
    "        # transform face mask to space of the floating image\n",
    "        os.system(f'./apply_affine \"{target_face_mask}\" \"{floating}\" \"{out_affine}\" \"{results_folder_path}\" -noshow')\n",
    "        \n",
    "        # define path to the registered and resampled face mask\n",
    "        face_mask_resampled_path = os.path.join(results_folder_path, os.path.basename(target_face_mask).replace(\".nii.gz\", \"_resampled.nii.gz\"))\n",
    "        \n",
    "        os.system(      f' \"{BRAINSresample_bin_path}\" '  + \n",
    "                        f'--inputVolume \"{target_face_mask}\" ' + \n",
    "                        f' --referenceVolume \"{floating}\" ' +\n",
    "                        f'--outputVolume \"{face_mask_resampled_path}\" ' + \n",
    "                        f'--warpTransform \"{out_affine}\" ' + \n",
    "                        f'--inverseTransform ' +\n",
    "                        f'--interpolationMode NearestNeighbor '\n",
    "                        f'>> /dev/null'\n",
    "                )\n",
    "\n",
    "        # apply mask to image\n",
    "        floating_masked_path = os.path.join(results_folder_path, os.path.basename(floating).replace(\".nii.gz\", \"_masked.nii.gz\"))\n",
    "\n",
    "        floating_nii = nib.load(floating)\n",
    "        floating_data = floating_nii.get_fdata()\n",
    "\n",
    "        mask_nii = nib.load(face_mask_resampled_path)\n",
    "        mask_data = mask_nii.get_fdata()\n",
    "\n",
    "        floating_masked_data = floating_data * mask_data\n",
    "        floating_masked_nii = nib.Nifti1Image(floating_masked_data, affine = floating_nii.affine)\n",
    "\n",
    "        nib.save(floating_masked_nii, floating_masked_path)"
   ]
  },
  {
   "cell_type": "code",
   "execution_count": null,
   "id": "fc0bdd046f12ba3d",
   "metadata": {
    "ExecuteTime": {
     "end_time": "2024-01-12T10:09:02.665070226Z",
     "start_time": "2024-01-12T10:09:02.664431407Z"
    },
    "collapsed": false,
    "jupyter": {
     "outputs_hidden": false
    }
   },
   "outputs": [],
   "source": []
  }
 ],
 "metadata": {
  "kernelspec": {
   "display_name": "Slicer 5.8",
   "language": "python",
   "name": "slicer-5.8"
  },
  "language_info": {
   "file_extension": ".py",
   "mimetype": "text/x-python",
   "name": "python",
   "version": "3.9.10"
  }
 },
 "nbformat": 4,
 "nbformat_minor": 5
}
